{
  "nbformat": 4,
  "nbformat_minor": 0,
  "metadata": {
    "colab": {
      "provenance": [],
      "authorship_tag": "ABX9TyOMnYBM7iMfmCigxdpAWvcq",
      "include_colab_link": true
    },
    "kernelspec": {
      "name": "python3",
      "display_name": "Python 3"
    },
    "language_info": {
      "name": "python"
    }
  },
  "cells": [
    {
      "cell_type": "markdown",
      "metadata": {
        "id": "view-in-github",
        "colab_type": "text"
      },
      "source": [
        "<a href=\"https://colab.research.google.com/github/Mehrab-H-Shuvo/RealEstate-Website-Scraping/blob/main/RealEstate_Website_Scraping(Pararius).ipynb\" target=\"_parent\"><img src=\"https://colab.research.google.com/assets/colab-badge.svg\" alt=\"Open In Colab\"/></a>"
      ]
    },
    {
      "cell_type": "markdown",
      "source": [
        "Web Scraping Using **BeautifulSoup**\n"
      ],
      "metadata": {
        "id": "l2a8UByNkkwD"
      }
    },
    {
      "cell_type": "markdown",
      "source": [
        "I'm using a Real Estate website called **Pararius**. Here I'll scrap all the data available about the listed rental apartments in Amsterdam"
      ],
      "metadata": {
        "id": "dPlKFpxTlWIR"
      }
    },
    {
      "cell_type": "code",
      "source": [
        "import requests, openpyxl\n",
        "from bs4 import BeautifulSoup\n",
        "\n",
        "excel = openpyxl.Workbook()\n",
        "sheet = excel.active\n",
        "sheet.title = \"Rental Properties in Nederland\"\n",
        "sheet.append([\"Name\",\"Address\",\"Price\",\"Area\",\"Rooms\",\"Agent's Name\"])\n",
        "\n",
        "#Get the HTML\n",
        "for page in range(1,67): \n",
        "  url = f\"https://www.pararius.com/apartments/nederland/page-{page}\"\n",
        "  website= requests.get(url)\n",
        "  website_content = website.content\n",
        "\n",
        "  #Parse the HTML \n",
        "  soup = BeautifulSoup(website_content, 'html.parser')\n",
        "  rental_apartments = soup.find_all('li', class_=\"search-list__item search-list__item--listing\")\n",
        "\n",
        "  for apartment in rental_apartments:\n",
        "    Name = apartment.find('a',class_=\"listing-search-item__link listing-search-item__link--title\").text.strip()\n",
        "    Address = apartment.find('div', class_=\"listing-search-item__sub-title\").text.strip()\n",
        "    Price = apartment.find('div', class_=\"listing-search-item__price\").text.strip()\n",
        "    Area = apartment.find ('li', class_=\"illustrated-features__item illustrated-features__item--surface-area\").text.strip()\n",
        "    Rooms = apartment.find('li', class_=\"illustrated-features__item illustrated-features__item--number-of-rooms\").text.strip()\n",
        "    #Interior_type= apartment.find('li', class_=\"illustrated-features__item illustrated-features__item--interior\").text\n",
        "    Agent = apartment.find('div',class_=\"listing-search-item__info\").text.strip()\n",
        "    \n",
        "    info=[Name,Address,Price,Area,Rooms,Agent] \n",
        "    sheet.append([Name,Address,Price,Area,Rooms,Agent])\n",
        "    print(info)\n",
        "  \n",
        "  excel.save(\"Rental Properties in Nederland.xlsx\")\n"
      ],
      "metadata": {
        "id": "MGyH9Dv-lMlA"
      },
      "execution_count": null,
      "outputs": []
    },
    {
      "cell_type": "code",
      "source": [
        "import requests \n",
        "from bs4 import BeautifulSoup\n",
        "\n",
        "url = 'https://www.pararius.com/apartments/amsterdam/page-1'\n",
        "webpage1 = requests.get(url)\n",
        "webpage1_content = webpage1.content\n",
        "soup1 = BeautifulSoup(webpage1_content, 'html.parser')\n",
        "\n",
        "rental_apartments = soup1.find_all('li', class_=\"search-list__item search-list__item--listing\")\n",
        "\n",
        "for apartment in rental_apartments:\n",
        "    url1= apartment.find('h2', class_=\"listing-search-item__title\").find('a')['href']\n",
        "    apartment_url = f\"https://www.pararius.com{url1}\"\n",
        "    webpage2 = requests.get(apartment_url)\n",
        "    webpage2_content= webpage2.content\n",
        "    soup2 = BeautifulSoup(webpage2_content, 'html.parser')\n",
        "    \n",
        "    apartment_details = soup2.find('article', class_=\"page__row page__row--listing\")\n",
        "    Interior_details =apartment_details.find('section', class_=\"page__details page__details--summary\")\n",
        "    try: \n",
        "      Name = apartment_details.find('section', class_=\"page__details page__details--summary\").find('h1').text.strip(\"For rent:\")\n",
        "      Address = apartment_details.find('section', class_=\"page__details page__details--summary\").find('div', class_=\"listing-detail-summary__location\").text.strip()\n",
        "      Price =  apartment_details.find('section', class_=\"page__details page__details--summary\").find('div', class_=\"listing-detail-summary__price\").text.split()[0]\n",
        "      Area = apartment_details.find('section', class_=\"page__details page__details--summary\").find('li', class_=\"illustrated-features__item illustrated-features__item--surface-area\").text.strip()\n",
        "      Rooms = apartment_details.find('section', class_=\"page__details page__details--summary\").find('li', class_=\"illustrated-features__item illustrated-features__item--number-of-rooms\").text.strip()\n",
        "      \n",
        "      # Many porperties in doesn't have any information available on Interior and Deposit, thatswhy code keeps returning \"Null\" for the missing values.\n",
        "      Interior = Interior_details.find('li', class_=\"illustrated-features__item illustrated-features__item--interior\").text.strip()\n",
        "      Deposit = apartment_details.find('section', class_=\"page__details page__details--transfer\").find('dd', class_=\"listing-features__description listing-features__description--deposit\").find('span', class_=\"listing-features__main-description\").text\n",
        "      \n",
        "\n",
        "      info=[Name, Address,Price,Area,Rooms]\n",
        "      print(info)\n",
        "\n",
        "\n",
        "    except Exception as e:\n",
        "      print(\"Null\")\n"
      ],
      "metadata": {
        "id": "4ky7CVMOyQYF"
      },
      "execution_count": null,
      "outputs": []
    }
  ]
}